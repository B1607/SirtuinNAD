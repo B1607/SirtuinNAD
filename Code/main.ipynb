{
 "cells": [
  {
   "cell_type": "markdown",
   "id": "48575d1c-3d75-4012-a67a-56ede7dd9bbe",
   "metadata": {},
   "source": [
    "# Setting Up the Environment"
   ]
  },
  {
   "cell_type": "code",
   "execution_count": null,
   "id": "6ba130e2-f823-4fa2-b0b1-02869a49573c",
   "metadata": {},
   "outputs": [],
   "source": [
    "import numpy as np\n",
    "import math\n",
    "from sklearn import metrics\n",
    "from sklearn.metrics import roc_curve\n",
    "import tensorflow as tf\n",
    "from tensorflow.keras import layers,Model\n",
    "from sklearn.model_selection import KFold\n",
    "import gc\n",
    "import MCNN\n",
    "import import_NADBP as load_data"
   ]
  },
  {
   "cell_type": "markdown",
   "id": "044d67ef-b16b-4752-9b5b-293a3b6e1c12",
   "metadata": {
    "tags": []
   },
   "source": [
    "# Parameter Setup for Machine Learning"
   ]
  },
  {
   "cell_type": "code",
   "execution_count": null,
   "id": "0851d5dd-21d4-4182-8fa5-2027de0091de",
   "metadata": {},
   "outputs": [],
   "source": [
    "DATASET=\"Sirtuin7\"\n",
    "# Sirtuin7 = 7\n",
    "# NAD_dependent= 45\n",
    "\n",
    "NUM_DEPENDENT =7\n",
    "MAXSEQ = NUM_DEPENDENT*2+1\n",
    "\n",
    "NUM_FEATURE = 1024\n",
    "NUM_FILTER = 256\n",
    "NUM_HIDDEN = 1000#100\n",
    "BATCH_SIZE  = 1024\n",
    "WINDOW_SIZES = [2,4,6,8,10,12,14]\n",
    "EPOCHS      = 20\n",
    "\n",
    "K_Fold = 5\n",
    "VALIDATION_MODE=\"independent\"\n",
    "#\"independent\" \"cross\"\n",
    "\n",
    "NUM_CLASSES = 2\n",
    "CLASS_NAMES = ['Negative','Positive']"
   ]
  },
  {
   "cell_type": "markdown",
   "id": "b5b2b7d0-58fa-42c0-af53-566835dd9cb0",
   "metadata": {},
   "source": [
    "# Data Loading"
   ]
  },
  {
   "cell_type": "code",
   "execution_count": null,
   "id": "767da2b2-407b-45ab-8840-8056249aa086",
   "metadata": {},
   "outputs": [],
   "source": [
    "x_train,y_train,x_test,y_test = load_data.MCNN_data_load(NUM_CLASSES,NUM_DEPENDENT,DATASET)"
   ]
  },
  {
   "cell_type": "code",
   "execution_count": null,
   "id": "569f495f-a64c-40e5-bbf2-fd8874023924",
   "metadata": {},
   "outputs": [],
   "source": [
    "print(x_train.shape)\n",
    "print(y_train.shape)\n",
    "print(x_test.shape)\n",
    "print(y_test.shape)"
   ]
  },
  {
   "cell_type": "markdown",
   "id": "1657ca8d-4aac-4f76-a07b-67f65cb45254",
   "metadata": {},
   "source": [
    "# Function Definition"
   ]
  },
  {
   "cell_type": "code",
   "execution_count": null,
   "id": "e14f0a3d-be25-4106-a4b1-a4bee9f1aab0",
   "metadata": {},
   "outputs": [],
   "source": [
    "def model_test(model, x_test, y_test):\n",
    "\n",
    "    print(x_test.shape)\n",
    "    pred_test = model.predict(x_test)\n",
    "    fpr, tpr, thresholds = roc_curve(y_test[:,1], pred_test[:, 1])\n",
    "    AUC = metrics.auc(fpr, tpr)\n",
    "    display = metrics.RocCurveDisplay(fpr=fpr, tpr=tpr, roc_auc=AUC, estimator_name='mCNN')\n",
    "    # calculate the g-mean for each threshold\n",
    "    gmeans = np.sqrt(tpr * (1-fpr))\n",
    "    # locate the index of the largest g-mean\n",
    "    ix = np.argmax(gmeans)\n",
    "    print(f'Best Threshold={thresholds[ix]}, G-Mean={gmeans[ix]}')\n",
    "    threshold = thresholds[ix]\n",
    "\n",
    "    y_pred = (pred_test[:, 1] >= threshold).astype(int)\n",
    "\n",
    "    TN, FP, FN, TP =  metrics.confusion_matrix(y_test[0:][:,1], y_pred).ravel()\n",
    "\n",
    "    Sens = TP/(TP+FN) if TP+FN > 0 else 0.0\n",
    "    Spec = TN/(FP+TN) if FP+TN > 0 else 0.0\n",
    "    Acc = (TP+TN)/(TP+FP+TN+FN)\n",
    "    MCC = (TP*TN-FP*FN)/math.sqrt((TP+FP)*(TP+FN)*(TN+FP)*(TN+FN)) if TP+FP > 0 and FP+TN > 0 and TP+FN and TN+FN else 0.0\n",
    "    F1 = 2*TP/(2*TP+FP+FN)\n",
    "    Prec=TP/(TP+FP)\n",
    "    Recall=TP/(TP+FN)\n",
    "    return TP,FP,TN,FN,Sens,Spec,Acc,MCC,AUC,display"
   ]
  },
  {
   "cell_type": "markdown",
   "id": "2d7b53c8-7213-43a6-ba14-44987fc5685e",
   "metadata": {},
   "source": [
    "# Cross Validation"
   ]
  },
  {
   "cell_type": "code",
   "execution_count": null,
   "id": "4314bd9a-10f4-40ef-a0b1-2d3788a6ec36",
   "metadata": {},
   "outputs": [],
   "source": [
    "if(VALIDATION_MODE==\"cross\"):\n",
    "\t\n",
    "\tkfold = KFold(n_splits = K_Fold, shuffle = True, random_state = 2)\n",
    "\tresults=[]\n",
    "\ti=1\n",
    "\tfor train_index, test_index in kfold.split(x_train):\n",
    "\t\tprint(i,\"/\",K_Fold,'\\n')\n",
    "\t\t# 取得訓練和測試數據\n",
    "\t\tX_train, X_test = x_train[train_index], x_train[test_index]\n",
    "\t\tY_train, Y_test = y_train[train_index], y_train[test_index]\n",
    "\t\tprint(X_train.shape)\n",
    "\t\tprint(X_test.shape)\n",
    "\t\tprint(Y_train.shape)\n",
    "\t\tprint(Y_test.shape)\n",
    "\t\t# 重新建模\n",
    "\t\tmodel = MCNN.DeepScan(\n",
    "            input_shape=(1, MAXSEQ, NUM_FEATURE),\n",
    "            num_class=NUM_CLASSES,\n",
    "            maxseq=MAXSEQ,\n",
    "    \t\tnum_filters=NUM_FILTER,\n",
    "\t\t\tnum_hidden=NUM_HIDDEN,\n",
    "\t\t\twindow_sizes=WINDOW_SIZES)\n",
    "\t\tmodel.compile(optimizer='adam', loss='categorical_crossentropy', metrics=['accuracy'])\n",
    "\t\tmodel.build(input_shape=X_train.shape)\n",
    "\t\t# 在測試數據上評估模型\n",
    "\t\thistory=model.fit(\n",
    "\t\t\tX_train,\n",
    "\t\t\tY_train,\n",
    "\t\t\tbatch_size=BATCH_SIZE,\n",
    "\t\t\tepochs=EPOCHS,\n",
    "\t\t\tcallbacks=[tf.keras.callbacks.EarlyStopping(monitor='loss', patience=10)],\n",
    "\t\t\tverbose=1,\n",
    "\t\t\tshuffle=True\n",
    "\t\t)\n",
    "\t\tTP, FP, TN, FN, Sens, Spec, Acc, MCC, AUC, display = model_test(model, X_test, Y_test)\n",
    "\t\tresults.append([TP, FP, TN, FN, Sens, Spec, Acc, MCC, AUC])\n",
    "\t\ti+=1\n",
    "\t\t\n",
    "\t\tdel X_train\n",
    "\t\tdel X_test\n",
    "\t\tdel Y_train\n",
    "\t\tdel Y_test\n",
    "\t\tgc.collect()\n",
    "\t\t\n",
    "\tmean_results = np.mean(results, axis=0)\n",
    "\tprint(f'TP={TP}, FP={FP}, TN={TN}, FN={FN}, Sens={Sens:.4f}, Spec={Spec:.4f}, Acc={Acc:.4f}, MCC={MCC:.4f}, AUC={AUC:.4f}\\n')\n",
    "\n"
   ]
  },
  {
   "cell_type": "markdown",
   "id": "0f36407e-3197-412b-9cc1-29000bf771bb",
   "metadata": {},
   "source": [
    "# Independent Test"
   ]
  },
  {
   "cell_type": "code",
   "execution_count": null,
   "id": "28aa9cbe-3dc7-41a0-af37-8b2baffd372a",
   "metadata": {},
   "outputs": [],
   "source": [
    "if(VALIDATION_MODE==\"independent\"):\n",
    "\tmodel = MCNN.DeepScan(\n",
    "            input_shape=(1, MAXSEQ, NUM_FEATURE),\n",
    "            num_class=NUM_CLASSES,\n",
    "            maxseq=MAXSEQ,\n",
    "    \t\tnum_filters=NUM_FILTER,\n",
    "\t\t\tnum_hidden=NUM_HIDDEN,\n",
    "\t\t\twindow_sizes=WINDOW_SIZES)\n",
    "\tmodel.compile(optimizer='adam', loss='categorical_crossentropy', metrics=['accuracy'])\n",
    "\tmodel.build(input_shape=x_train.shape)\n",
    "\tmodel.summary()\n",
    "\n",
    "\tmodel.fit(\n",
    "\t\tx_train,\n",
    "\t\ty_train,\n",
    "\t\tbatch_size=BATCH_SIZE,\n",
    "\t\tepochs=EPOCHS,\n",
    "\t\tshuffle=True,\n",
    "\t)\n",
    "\t\n",
    "\tTP,FP,TN,FN,Sens,Spec,Acc,MCC,AUC,display = model_test(model, x_test, y_test)\n",
    "\tprint(f'TP={TP}, FP={FP}, TN={TN}, FN={FN}, Sens={Sens:.4f}, Spec={Spec:.4f}, Acc={Acc:.4f}, MCC={MCC:.4f}, AUC={AUC:.4f}\\n')\n",
    "\tdisplay.plot()"
   ]
  },
  {
   "cell_type": "code",
   "execution_count": null,
   "id": "12bdb046-56d9-4cb2-ba71-67aecce274dd",
   "metadata": {},
   "outputs": [],
   "source": []
  }
 ],
 "metadata": {
  "kernelspec": {
   "display_name": "TF",
   "language": "python",
   "name": "tf"
  },
  "language_info": {
   "codemirror_mode": {
    "name": "ipython",
    "version": 3
   },
   "file_extension": ".py",
   "mimetype": "text/x-python",
   "name": "python",
   "nbconvert_exporter": "python",
   "pygments_lexer": "ipython3",
   "version": "3.9.17"
  }
 },
 "nbformat": 4,
 "nbformat_minor": 5
}
